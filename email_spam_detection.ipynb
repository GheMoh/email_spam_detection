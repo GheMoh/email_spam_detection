{
  "metadata": {
    "kernelspec": {
      "language": "python",
      "display_name": "Python 3",
      "name": "python3"
    },
    "language_info": {
      "name": "python",
      "version": "3.7.10",
      "mimetype": "text/x-python",
      "codemirror_mode": {
        "name": "ipython",
        "version": 3
      },
      "pygments_lexer": "ipython3",
      "nbconvert_exporter": "python",
      "file_extension": ".py"
    },
    "colab": {
      "provenance": []
    }
  },
  "nbformat_minor": 0,
  "nbformat": 4,
  "cells": [
    {
      "cell_type": "code",
      "source": [
        "import numpy as np # linear algebra\n",
        "import pandas as pd # data processing, CSV file I/O (e.g. pd.read_csv)"
      ],
      "metadata": {
        "_uuid": "8f2839f25d086af736a60e9eeb907d3b93b6e0e5",
        "_cell_guid": "b1076dfc-b9ad-4769-8c92-a6c4dae69d19",
        "execution": {
          "iopub.status.busy": "2023-09-12T10:04:40.588877Z",
          "iopub.execute_input": "2023-09-12T10:04:40.589334Z",
          "iopub.status.idle": "2023-09-12T10:04:40.609026Z",
          "shell.execute_reply.started": "2023-09-12T10:04:40.589232Z",
          "shell.execute_reply": "2023-09-12T10:04:40.607581Z"
        },
        "trusted": true,
        "id": "XDgvQLpt2nLf"
      },
      "execution_count": null,
      "outputs": []
    },
    {
      "cell_type": "code",
      "source": [
        "data=pd.read_csv('spam.csv')\n",
        "data"
      ],
      "metadata": {
        "execution": {
          "iopub.status.busy": "2023-09-12T10:04:40.610793Z",
          "iopub.execute_input": "2023-09-12T10:04:40.611762Z",
          "iopub.status.idle": "2023-09-12T10:04:40.677513Z",
          "shell.execute_reply.started": "2023-09-12T10:04:40.611718Z",
          "shell.execute_reply": "2023-09-12T10:04:40.676339Z"
        },
        "trusted": true,
        "id": "07LQTRiP2nLm",
        "outputId": "a075d8d5-abf8-42db-f382-b612a79056a6"
      },
      "execution_count": null,
      "outputs": [
        {
          "execution_count": 2,
          "output_type": "execute_result",
          "data": {
            "text/plain": "     Category                                            Message\n0         ham  Go until jurong point, crazy.. Available only ...\n1         ham                      Ok lar... Joking wif u oni...\n2        spam  Free entry in 2 a wkly comp to win FA Cup fina...\n3         ham  U dun say so early hor... U c already then say...\n4         ham  Nah I don't think he goes to usf, he lives aro...\n...       ...                                                ...\n5567     spam  This is the 2nd time we have tried 2 contact u...\n5568      ham               Will ü b going to esplanade fr home?\n5569      ham  Pity, * was in mood for that. So...any other s...\n5570      ham  The guy did some bitching but I acted like i'd...\n5571      ham                         Rofl. Its true to its name\n\n[5572 rows x 2 columns]",
            "text/html": "<div>\n<style scoped>\n    .dataframe tbody tr th:only-of-type {\n        vertical-align: middle;\n    }\n\n    .dataframe tbody tr th {\n        vertical-align: top;\n    }\n\n    .dataframe thead th {\n        text-align: right;\n    }\n</style>\n<table border=\"1\" class=\"dataframe\">\n  <thead>\n    <tr style=\"text-align: right;\">\n      <th></th>\n      <th>Category</th>\n      <th>Message</th>\n    </tr>\n  </thead>\n  <tbody>\n    <tr>\n      <th>0</th>\n      <td>ham</td>\n      <td>Go until jurong point, crazy.. Available only ...</td>\n    </tr>\n    <tr>\n      <th>1</th>\n      <td>ham</td>\n      <td>Ok lar... Joking wif u oni...</td>\n    </tr>\n    <tr>\n      <th>2</th>\n      <td>spam</td>\n      <td>Free entry in 2 a wkly comp to win FA Cup fina...</td>\n    </tr>\n    <tr>\n      <th>3</th>\n      <td>ham</td>\n      <td>U dun say so early hor... U c already then say...</td>\n    </tr>\n    <tr>\n      <th>4</th>\n      <td>ham</td>\n      <td>Nah I don't think he goes to usf, he lives aro...</td>\n    </tr>\n    <tr>\n      <th>...</th>\n      <td>...</td>\n      <td>...</td>\n    </tr>\n    <tr>\n      <th>5567</th>\n      <td>spam</td>\n      <td>This is the 2nd time we have tried 2 contact u...</td>\n    </tr>\n    <tr>\n      <th>5568</th>\n      <td>ham</td>\n      <td>Will ü b going to esplanade fr home?</td>\n    </tr>\n    <tr>\n      <th>5569</th>\n      <td>ham</td>\n      <td>Pity, * was in mood for that. So...any other s...</td>\n    </tr>\n    <tr>\n      <th>5570</th>\n      <td>ham</td>\n      <td>The guy did some bitching but I acted like i'd...</td>\n    </tr>\n    <tr>\n      <th>5571</th>\n      <td>ham</td>\n      <td>Rofl. Its true to its name</td>\n    </tr>\n  </tbody>\n</table>\n<p>5572 rows × 2 columns</p>\n</div>"
          },
          "metadata": {}
        }
      ]
    },
    {
      "cell_type": "code",
      "source": [
        "data.columns"
      ],
      "metadata": {
        "execution": {
          "iopub.status.busy": "2023-09-12T10:04:40.679753Z",
          "iopub.execute_input": "2023-09-12T10:04:40.680409Z",
          "iopub.status.idle": "2023-09-12T10:04:40.687401Z",
          "shell.execute_reply.started": "2023-09-12T10:04:40.680366Z",
          "shell.execute_reply": "2023-09-12T10:04:40.686335Z"
        },
        "trusted": true,
        "id": "VOtxNyol2nLo",
        "outputId": "2445cce9-4dbc-4e88-cebd-d882ef795aea"
      },
      "execution_count": null,
      "outputs": [
        {
          "execution_count": 3,
          "output_type": "execute_result",
          "data": {
            "text/plain": "Index(['Category', 'Message'], dtype='object')"
          },
          "metadata": {}
        }
      ]
    },
    {
      "cell_type": "code",
      "source": [
        "data.info()"
      ],
      "metadata": {
        "execution": {
          "iopub.status.busy": "2023-09-12T10:04:40.689142Z",
          "iopub.execute_input": "2023-09-12T10:04:40.689850Z",
          "iopub.status.idle": "2023-09-12T10:04:40.721056Z",
          "shell.execute_reply.started": "2023-09-12T10:04:40.689809Z",
          "shell.execute_reply": "2023-09-12T10:04:40.720123Z"
        },
        "trusted": true,
        "id": "H5VuKTDe2nLp",
        "outputId": "247bee97-f063-490b-bd21-1d4d58e8ea35"
      },
      "execution_count": null,
      "outputs": [
        {
          "name": "stdout",
          "text": "<class 'pandas.core.frame.DataFrame'>\nRangeIndex: 5572 entries, 0 to 5571\nData columns (total 2 columns):\n #   Column    Non-Null Count  Dtype \n---  ------    --------------  ----- \n 0   Category  5572 non-null   object\n 1   Message   5572 non-null   object\ndtypes: object(2)\nmemory usage: 87.2+ KB\n",
          "output_type": "stream"
        }
      ]
    },
    {
      "cell_type": "markdown",
      "source": [
        "Dropped The Column Unnamed: 0"
      ],
      "metadata": {
        "id": "97550EjM2nLr"
      }
    },
    {
      "cell_type": "code",
      "source": [
        "data.isna().sum()"
      ],
      "metadata": {
        "execution": {
          "iopub.status.busy": "2023-09-12T10:04:40.722413Z",
          "iopub.execute_input": "2023-09-12T10:04:40.722942Z",
          "iopub.status.idle": "2023-09-12T10:04:40.732845Z",
          "shell.execute_reply.started": "2023-09-12T10:04:40.722907Z",
          "shell.execute_reply": "2023-09-12T10:04:40.731549Z"
        },
        "trusted": true,
        "id": "awfbC2bM2nLr",
        "outputId": "abfce8fe-2d13-4072-c403-365bb88e1260"
      },
      "execution_count": null,
      "outputs": [
        {
          "execution_count": 5,
          "output_type": "execute_result",
          "data": {
            "text/plain": "Category    0\nMessage     0\ndtype: int64"
          },
          "metadata": {}
        }
      ]
    },
    {
      "cell_type": "code",
      "source": [
        "data['Spam']=data['Category'].apply(lambda x:1 if x=='spam' else 0)\n",
        "data.head(5)"
      ],
      "metadata": {
        "execution": {
          "iopub.status.busy": "2023-09-12T10:04:40.734490Z",
          "iopub.execute_input": "2023-09-12T10:04:40.734855Z",
          "iopub.status.idle": "2023-09-12T10:04:40.760087Z",
          "shell.execute_reply.started": "2023-09-12T10:04:40.734821Z",
          "shell.execute_reply": "2023-09-12T10:04:40.758781Z"
        },
        "trusted": true,
        "id": "B_oEgYNq2nLt",
        "outputId": "7d30de72-9e6c-459c-8217-5b314a4ddb3e"
      },
      "execution_count": null,
      "outputs": [
        {
          "execution_count": 6,
          "output_type": "execute_result",
          "data": {
            "text/plain": "  Category                                            Message  Spam\n0      ham  Go until jurong point, crazy.. Available only ...     0\n1      ham                      Ok lar... Joking wif u oni...     0\n2     spam  Free entry in 2 a wkly comp to win FA Cup fina...     1\n3      ham  U dun say so early hor... U c already then say...     0\n4      ham  Nah I don't think he goes to usf, he lives aro...     0",
            "text/html": "<div>\n<style scoped>\n    .dataframe tbody tr th:only-of-type {\n        vertical-align: middle;\n    }\n\n    .dataframe tbody tr th {\n        vertical-align: top;\n    }\n\n    .dataframe thead th {\n        text-align: right;\n    }\n</style>\n<table border=\"1\" class=\"dataframe\">\n  <thead>\n    <tr style=\"text-align: right;\">\n      <th></th>\n      <th>Category</th>\n      <th>Message</th>\n      <th>Spam</th>\n    </tr>\n  </thead>\n  <tbody>\n    <tr>\n      <th>0</th>\n      <td>ham</td>\n      <td>Go until jurong point, crazy.. Available only ...</td>\n      <td>0</td>\n    </tr>\n    <tr>\n      <th>1</th>\n      <td>ham</td>\n      <td>Ok lar... Joking wif u oni...</td>\n      <td>0</td>\n    </tr>\n    <tr>\n      <th>2</th>\n      <td>spam</td>\n      <td>Free entry in 2 a wkly comp to win FA Cup fina...</td>\n      <td>1</td>\n    </tr>\n    <tr>\n      <th>3</th>\n      <td>ham</td>\n      <td>U dun say so early hor... U c already then say...</td>\n      <td>0</td>\n    </tr>\n    <tr>\n      <th>4</th>\n      <td>ham</td>\n      <td>Nah I don't think he goes to usf, he lives aro...</td>\n      <td>0</td>\n    </tr>\n  </tbody>\n</table>\n</div>"
          },
          "metadata": {}
        }
      ]
    },
    {
      "cell_type": "code",
      "source": [
        "from sklearn.model_selection import train_test_split\n",
        "X_train,X_test,y_train,y_test=train_test_split(data.Message,data.Spam,test_size=0.25)"
      ],
      "metadata": {
        "execution": {
          "iopub.status.busy": "2023-09-12T10:04:40.763072Z",
          "iopub.execute_input": "2023-09-12T10:04:40.763615Z",
          "iopub.status.idle": "2023-09-12T10:04:41.773885Z",
          "shell.execute_reply.started": "2023-09-12T10:04:40.763534Z",
          "shell.execute_reply": "2023-09-12T10:04:41.772718Z"
        },
        "trusted": true,
        "id": "myWsZcJx2nLu"
      },
      "execution_count": null,
      "outputs": []
    },
    {
      "cell_type": "code",
      "source": [
        "#CounterVectorizer Convert the text into matrics\n",
        "from sklearn.feature_extraction.text import CountVectorizer"
      ],
      "metadata": {
        "execution": {
          "iopub.status.busy": "2023-09-12T10:04:41.775329Z",
          "iopub.execute_input": "2023-09-12T10:04:41.775653Z",
          "iopub.status.idle": "2023-09-12T10:04:41.795685Z",
          "shell.execute_reply.started": "2023-09-12T10:04:41.775622Z",
          "shell.execute_reply": "2023-09-12T10:04:41.793929Z"
        },
        "trusted": true,
        "id": "rDJ3cf102nLv"
      },
      "execution_count": null,
      "outputs": []
    },
    {
      "cell_type": "markdown",
      "source": [
        "Naive Bayes Have three Classifier(Bernouli,Multinominal,Gaussian)\n",
        "Here I use Multinominal Bayes Because here data in a discrete form\n",
        "discrete data(e.g movie ratings ranging  1 to 5 as each rating will have certain frequency to represent)"
      ],
      "metadata": {
        "id": "kn1QFjD_2nLw"
      }
    },
    {
      "cell_type": "code",
      "source": [
        "from sklearn.naive_bayes import MultinomialNB"
      ],
      "metadata": {
        "execution": {
          "iopub.status.busy": "2023-09-12T10:04:41.797414Z",
          "iopub.execute_input": "2023-09-12T10:04:41.797898Z",
          "iopub.status.idle": "2023-09-12T10:04:41.805560Z",
          "shell.execute_reply.started": "2023-09-12T10:04:41.797854Z",
          "shell.execute_reply": "2023-09-12T10:04:41.804429Z"
        },
        "trusted": true,
        "id": "ud6I4UNN2nLx"
      },
      "execution_count": null,
      "outputs": []
    },
    {
      "cell_type": "code",
      "source": [
        "from sklearn.pipeline import Pipeline\n",
        "clf=Pipeline([\n",
        "    ('vectorizer',CountVectorizer()),\n",
        "    ('nb',MultinomialNB())\n",
        "])"
      ],
      "metadata": {
        "execution": {
          "iopub.status.busy": "2023-09-12T10:04:41.806926Z",
          "iopub.execute_input": "2023-09-12T10:04:41.807288Z",
          "iopub.status.idle": "2023-09-12T10:04:41.821847Z",
          "shell.execute_reply.started": "2023-09-12T10:04:41.807255Z",
          "shell.execute_reply": "2023-09-12T10:04:41.820477Z"
        },
        "trusted": true,
        "id": "V9VTAsuS2nLy"
      },
      "execution_count": null,
      "outputs": []
    },
    {
      "cell_type": "markdown",
      "source": [
        "# Tarining The Model"
      ],
      "metadata": {
        "id": "SkX48apj2nLz"
      }
    },
    {
      "cell_type": "code",
      "source": [
        "clf.fit(X_train,y_train)"
      ],
      "metadata": {
        "execution": {
          "iopub.status.busy": "2023-09-12T10:04:41.824863Z",
          "iopub.execute_input": "2023-09-12T10:04:41.825271Z",
          "iopub.status.idle": "2023-09-12T10:04:41.971124Z",
          "shell.execute_reply.started": "2023-09-12T10:04:41.825211Z",
          "shell.execute_reply": "2023-09-12T10:04:41.970350Z"
        },
        "trusted": true,
        "id": "lT2h62vQ2nL0",
        "outputId": "7e7b6415-db6f-4ca9-a62a-37159560ff05"
      },
      "execution_count": null,
      "outputs": [
        {
          "execution_count": 11,
          "output_type": "execute_result",
          "data": {
            "text/plain": "Pipeline(steps=[('vectorizer', CountVectorizer()), ('nb', MultinomialNB())])"
          },
          "metadata": {}
        }
      ]
    },
    {
      "cell_type": "markdown",
      "source": [
        "Here I given Two email Two detect 1st One is looking good and the other one looking spam"
      ],
      "metadata": {
        "id": "pkmt0r8O2nL1"
      }
    },
    {
      "cell_type": "code",
      "source": [
        "emails=[\n",
        "    'Sounds great! Are you home now?',\n",
        "    'Will u meet ur dream partner soon? Is ur career off 2 a flyng start? 2 find out free, txt HORO followed by ur star sign, e. g. HORO ARIES'\n",
        "]"
      ],
      "metadata": {
        "execution": {
          "iopub.status.busy": "2023-09-12T10:04:41.972560Z",
          "iopub.execute_input": "2023-09-12T10:04:41.973056Z",
          "iopub.status.idle": "2023-09-12T10:04:41.977450Z",
          "shell.execute_reply.started": "2023-09-12T10:04:41.973008Z",
          "shell.execute_reply": "2023-09-12T10:04:41.976269Z"
        },
        "trusted": true,
        "id": "dbL9ueq22nL1"
      },
      "execution_count": null,
      "outputs": []
    },
    {
      "cell_type": "markdown",
      "source": [
        "Predict Email"
      ],
      "metadata": {
        "id": "Ds6b-V5c2nL2"
      }
    },
    {
      "cell_type": "code",
      "source": [
        "clf.predict(emails)"
      ],
      "metadata": {
        "execution": {
          "iopub.status.busy": "2023-09-12T10:04:41.978951Z",
          "iopub.execute_input": "2023-09-12T10:04:41.979305Z",
          "iopub.status.idle": "2023-09-12T10:04:41.999691Z",
          "shell.execute_reply.started": "2023-09-12T10:04:41.979272Z",
          "shell.execute_reply": "2023-09-12T10:04:41.998859Z"
        },
        "trusted": true,
        "id": "fOE856iV2nL3",
        "outputId": "bef9c85b-fb50-40a3-f052-35e789fc38ce"
      },
      "execution_count": null,
      "outputs": [
        {
          "execution_count": 13,
          "output_type": "execute_result",
          "data": {
            "text/plain": "array([0, 1])"
          },
          "metadata": {}
        }
      ]
    },
    {
      "cell_type": "markdown",
      "source": [
        "# Prediction Of Model"
      ],
      "metadata": {
        "id": "G2wMPeKL2nL4"
      }
    },
    {
      "cell_type": "code",
      "source": [
        "clf.score(X_test,y_test)"
      ],
      "metadata": {
        "execution": {
          "iopub.status.busy": "2023-09-12T10:04:42.001080Z",
          "iopub.execute_input": "2023-09-12T10:04:42.001746Z",
          "iopub.status.idle": "2023-09-12T10:04:42.053339Z",
          "shell.execute_reply.started": "2023-09-12T10:04:42.001711Z",
          "shell.execute_reply": "2023-09-12T10:04:42.052201Z"
        },
        "trusted": true,
        "id": "wOfpiQoO2nL4",
        "outputId": "c43aa5d8-dda7-425c-87b1-e56f194e6b25"
      },
      "execution_count": null,
      "outputs": [
        {
          "execution_count": 14,
          "output_type": "execute_result",
          "data": {
            "text/plain": "0.9870782483847811"
          },
          "metadata": {}
        }
      ]
    }
  ]
}